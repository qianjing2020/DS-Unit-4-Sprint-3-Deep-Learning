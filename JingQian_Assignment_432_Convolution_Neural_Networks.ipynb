{
  "nbformat": 4,
  "nbformat_minor": 0,
  "metadata": {
    "kernelspec": {
      "display_name": "U4-S2-NNF-DS10",
      "language": "python",
      "name": "u4-s2-nnf-ds10"
    },
    "language_info": {
      "codemirror_mode": {
        "name": "ipython",
        "version": 3
      },
      "file_extension": ".py",
      "mimetype": "text/x-python",
      "name": "python",
      "nbconvert_exporter": "python",
      "pygments_lexer": "ipython3",
      "version": "3.7.6"
    },
    "colab": {
      "name": "JingQian_Assignment_432_Convolution_Neural_Networks.ipynb",
      "provenance": [],
      "collapsed_sections": [],
      "include_colab_link": true
    },
    "accelerator": "GPU"
  },
  "cells": [
    {
      "cell_type": "markdown",
      "metadata": {
        "id": "view-in-github",
        "colab_type": "text"
      },
      "source": [
        "<a href=\"https://colab.research.google.com/github/qianjing2020/DS-Unit-4-Sprint-3-Deep-Learning/blob/master/JingQian_Assignment_432_Convolution_Neural_Networks.ipynb\" target=\"_parent\"><img src=\"https://colab.research.google.com/assets/colab-badge.svg\" alt=\"Open In Colab\"/></a>"
      ]
    },
    {
      "cell_type": "markdown",
      "metadata": {
        "id": "hR7RsUnHA3he",
        "colab_type": "text"
      },
      "source": [
        "<img align=\"left\" src=\"https://lever-client-logos.s3.amazonaws.com/864372b1-534c-480e-acd5-9711f850815c-1524247202159.png\" width=200>\n",
        "<br></br>\n",
        "<br></br>\n",
        "\n",
        "## *Data Science Unit 4 Sprint 3 Assignment 2*\n",
        "# Convolutional Neural Networks (CNNs)"
      ]
    },
    {
      "cell_type": "markdown",
      "metadata": {
        "colab_type": "text",
        "id": "0lfZdD_cp1t5"
      },
      "source": [
        "# Assignment\n",
        "\n",
        "- <a href=\"#p1\">Part 1:</a> Pre-Trained Model\n",
        "- <a href=\"#p2\">Part 2:</a> Custom CNN Model\n",
        "- <a href=\"#p3\">Part 3:</a> CNN with Data Augmentation\n",
        "\n",
        "\n",
        "You will apply three different CNN models to a binary image classification model using Keras. Classify images of Mountains (`./data/train/mountain/*`) and images of forests (`./data/train/forest/*`). Treat mountains as the positive class (1) and the forest images as the negative (zero). \n",
        "\n",
        "|Mountain (+)|Forest (-)|\n",
        "|---|---|\n",
        "|![](./data/train/mountain/art1131.jpg)|![](./data/validation/forest/cdmc317.jpg)|\n",
        "\n",
        "The problem is relatively difficult given that the sample is tiny: there are about 350 observations per class. This sample size might be something that you can expect with prototyping an image classification problem/solution at work. Get accustomed to evaluating several different possible models."
      ]
    },
    {
      "cell_type": "markdown",
      "metadata": {
        "colab_type": "text",
        "id": "ulkaz8LbA3hh"
      },
      "source": [
        "# Pre - Trained Model\n",
        "<a id=\"p1\"></a>\n",
        "\n",
        "Load a pretrained network from Keras, [ResNet50](https://tfhub.dev/google/imagenet/resnet_v1_50/classification/1) - a 50 layer deep network trained to recognize [1000 objects](https://storage.googleapis.com/download.tensorflow.org/data/ImageNetLabels.txt). Starting usage:\n",
        "\n",
        "```python\n",
        "import numpy as np\n",
        "\n",
        "from tensorflow.keras.applications.resnet50 import ResNet50\n",
        "from tensorflow.keras.preprocessing import image\n",
        "from tensorflow.keras.applications.resnet50 import preprocess_input, decode_predictions\n",
        "\n",
        "from tensorflow.keras.layers import Dense, GlobalAveragePooling2D\n",
        "from tensorflow.keras.models import Model # This is the functional API\n",
        "\n",
        "resnet = ResNet50(weights='imagenet', include_top=False)\n",
        "\n",
        "```\n",
        "\n",
        "The `include_top` parameter in `ResNet50` will remove the full connected layers from the ResNet model. The next step is to turn off the training of the ResNet layers. We want to use the learned parameters without updating them in future training passes. \n",
        "\n",
        "```python\n",
        "for layer in resnet.layers:\n",
        "    layer.trainable = False\n",
        "```\n",
        "\n",
        "Using the Keras functional API, we will need to additional additional full connected layers to our model. We we removed the top layers, we removed all preivous fully connected layers. In other words, we kept only the feature processing portions of our network. You can expert with additional layers beyond what's listed here. The `GlobalAveragePooling2D` layer functions as a really fancy flatten function by taking the average of each of the last convolutional layer outputs (which is two dimensional still). \n",
        "\n",
        "```python\n",
        "x = resnet.output\n",
        "x = GlobalAveragePooling2D()(x) # This layer is a really fancy flatten\n",
        "x = Dense(1024, activation='relu')(x)\n",
        "predictions = Dense(1, activation='sigmoid')(x)\n",
        "model = Model(resnet.input, predictions)\n",
        "```\n",
        "\n",
        "Your assignment is to apply the transfer learning above to classify images of Mountains (`./data/train/mountain/*`) and images of forests (`./data/train/forest/*`). Treat mountains as the positive class (1) and the forest images as the negative (zero). \n",
        "\n",
        "Steps to complete assignment: \n",
        "1. Load in Image Data into numpy arrays (`X`) \n",
        "2. Create a `y` for the labels\n",
        "3. Train your model with pre-trained layers from resnet\n",
        "4. Report your model's accuracy"
      ]
    },
    {
      "cell_type": "markdown",
      "metadata": {
        "id": "Zi-CXcVCA3hk",
        "colab_type": "text"
      },
      "source": [
        "## Load in Data\n",
        "\n",
        "This surprisingly more difficult than it seems, because you are working with directories of images instead of a single file. This boiler plate will help you download a zipped version of the directory of images. The directory is organized into \"train\" and \"validation\" which you can use inside an `ImageGenerator` class to stream batches of images thru your model.  \n"
      ]
    },
    {
      "cell_type": "markdown",
      "metadata": {
        "id": "p37D9fJiA3hm",
        "colab_type": "text"
      },
      "source": [
        "### Download & Summarize the Data\n",
        "\n",
        "This step is completed for you. Just run the cells and review the results. "
      ]
    },
    {
      "cell_type": "code",
      "metadata": {
        "id": "YjrD0cxiA3hn",
        "colab_type": "code",
        "colab": {}
      },
      "source": [
        "import tensorflow as tf\n",
        "import os\n",
        "\n",
        "_URL = 'https://github.com/LambdaSchool/DS-Unit-4-Sprint-3-Deep-Learning/blob/master/module2-convolutional-neural-networks/data.zip?raw=true'\n",
        "path_to_zip = tf.keras.utils.get_file(fname='data.zip', origin=_URL, extract=True)\n",
        "# keras.utils.get_file: return the Path to the downloaded file \n",
        "# By default the file at the url origin is downloaded to the cache_dir ~/.keras, placed in the cache_subdir datasets\n",
        "\n",
        "PATH = os.path.join(os.path.dirname(path_to_zip), 'data')\n",
        "\n",
        "print(path_to_zip)\n",
        "PATH"
      ],
      "execution_count": 0,
      "outputs": []
    },
    {
      "cell_type": "code",
      "metadata": {
        "id": "oC50giFaA3ht",
        "colab_type": "code",
        "colab": {}
      },
      "source": [
        "train_dir = os.path.join(PATH, 'train')\n",
        "validation_dir = os.path.join(PATH, 'validation')"
      ],
      "execution_count": 0,
      "outputs": []
    },
    {
      "cell_type": "code",
      "metadata": {
        "id": "_XsIA5gEA3hx",
        "colab_type": "code",
        "colab": {}
      },
      "source": [
        "# directories for train/val mountin/forest pics\n",
        "train_mountain_dir = os.path.join(train_dir, 'mountain')  \n",
        "train_forest_dir = os.path.join(train_dir, 'forest')  \n",
        "validation_mountain_dir = os.path.join(validation_dir, 'mountain')  \n",
        "validation_forest_dir = os.path.join(validation_dir, 'forest')  "
      ],
      "execution_count": 0,
      "outputs": []
    },
    {
      "cell_type": "code",
      "metadata": {
        "id": "3EL2pqjJuuYw",
        "colab_type": "code",
        "colab": {
          "base_uri": "https://localhost:8080/",
          "height": 55
        },
        "outputId": "8888facd-34f6-4bed-9c48-f8f69b9e01d6"
      },
      "source": [
        "# check the file list\n",
        "filelist = os.listdir(validation_forest_dir) \n",
        "# it actually has some hidden file like \". DS_store\", '.ipynb_checkpoints', are we gonna just leave it there?\n",
        "print(', '.join(map(str, filelist)))"
      ],
      "execution_count": 6,
      "outputs": [
        {
          "output_type": "stream",
          "text": [
            "cdmc556.jpg, cdmc338.jpg, cdmc415.jpg, natc52.jpg, cdmc12.jpg, cdmc562.jpg, bost101.jpg, cdmc271.jpg, cdmc331.jpg, cdmc348.jpg, natc37.jpg, cdmc363.jpg, cdmc290.jpg, cdmc352.jpg, cdmc317.jpg, cdmc292.jpg, natc49.jpg, cdmc368.jpg, cdmc278.jpg, cdmc280.jpg, cdmc547.jpg, bost103.jpg, .DS_Store, cdmc306.jpg, bost190.jpg, cdmc315.jpg, .ipynb_checkpoints, cdmc430.jpg, nat1266.jpg, cdmc388.jpg, bost98.jpg, cdmc313.jpg, cdmc533.jpg, cdmc293.jpg, cdmc282.jpg, cdmc333.jpg, natc12.jpg, cdmc319.jpg, cdmc318.jpg, cdmc375.jpg, cdmc291.jpg, cdmc277.jpg, natc13.jpg, cdmc101.jpg, cdmc283.jpg, cdmc284.jpg, cdmc281.jpg, cdmc451.jpg, natc4.jpg, cdmc414.jpg, bost102.jpg, cdmc377.jpg, bost100.jpg, cdmc458.jpg, cdmc344.jpg, n18075.jpg, cdmc358.jpg, cdmc494.jpg, cdmc351.jpg, cdmc507.jpg, cdmc385.jpg, cdmc359.jpg\n"
          ],
          "name": "stdout"
        }
      ]
    },
    {
      "cell_type": "code",
      "metadata": {
        "id": "wNdWDpYlz4Qx",
        "colab_type": "code",
        "colab": {
          "base_uri": "https://localhost:8080/",
          "height": 341
        },
        "outputId": "d60f6a05-c75c-4cdf-cdda-f3c36f4b319e"
      },
      "source": [
        "import imageio\n",
        "import matplotlib.pyplot as plt\n",
        "from skimage import color, io\n",
        "from skimage.exposure import rescale_intensity\n",
        "\n",
        "myPath = validation_mountain_dir\n",
        "img_filename = []\n",
        "for file in os.listdir(myPath):\n",
        "    if file.endswith(\".jpg\"):\n",
        "        img_filename.append(file)\n",
        "print(img_filename)\n",
        "print('The number of image file in', myPath, 'is', len(img_filename))\n",
        "\n",
        "img_file = myPath + '/' + img_filename[0]\n",
        "img = imageio.imread(img_file)\n",
        "plt.imshow(img);\n",
        "print(f'Image dimension ={img.shape}')"
      ],
      "execution_count": 7,
      "outputs": [
        {
          "output_type": "stream",
          "text": [
            "['n213031.jpg', 'n213009.jpg', 'n405030.jpg', 'n213095.jpg', 'n255008.jpg', 'cdmc184.jpg', 'n213092.jpg', 'n18028.jpg', 'n219008.jpg', 'n18023.jpg', 'n344047.jpg', 'n213094.jpg', 'n371066.jpg', 'n219015.jpg', 'n736023.jpg', 'n213085.jpg', 'n44062.jpg', 'n266018.jpg', 'n860054.jpg', 'n213065.jpg', 'n44003.jpg', 'n199073.jpg', 'n213080.jpg', 'n44009.jpg', 'n18044.jpg', 'n213097.jpg', 'n213096.jpg', 'n44002.jpg', 'n344059.jpg', 'n344019.jpg', 'n295018.jpg', 'n841058.jpg', 'n213034.jpg', 'n213056.jpg', 'n632073.jpg', 'n213005.jpg', 'n199031.jpg', 'n18021.jpg', 'cdmc187.jpg', 'n18039.jpg', 'n736029.jpg', 'n213007.jpg', 'n344082.jpg', 'n213081.jpg', 'n860034.jpg', 'n199080.jpg', 'n405023.jpg', 'n295039.jpg', 'n737027.jpg', 'n736026.jpg', 'n213021.jpg', 'n531080.jpg', 'n255068.jpg', 'n18009.jpg', 'n371071.jpg', 'n295042.jpg', 'n266020.jpg', 'n213086.jpg', 'n219006.jpg', 'n18022.jpg', 'n347078.jpg', 'n18036.jpg', 'n371063.jpg', 'n213098.jpg', 'n347051.jpg', 'n199015.jpg', 'n199004.jpg', 'n213053.jpg', 'cdmc181.jpg', 'n44004.jpg', 'n392090.jpg', 'n344076.jpg', 'n18058.jpg', 'n737041.jpg', 'n213093.jpg', 'n18019.jpg', 'n344080.jpg', 'n371076.jpg', 'n44031.jpg', 'n213048.jpg', 'n737049.jpg', 'n347049.jpg', 'n344042.jpg', 'n480098.jpg', 'n18069.jpg', 'n18024.jpg', 'n603032.jpg', 'n738013.jpg', 'n213049.jpg', 'n603048.jpg', 'n344028.jpg', 'n841059.jpg', 'n841060.jpg', 'n344032.jpg', 'n18071.jpg', 'n405055.jpg', 'n199089.jpg', 'n219007.jpg', 'n266017.jpg', 'n213075.jpg', 'n347077.jpg', 'n18070.jpg', 'n213035.jpg', 'n860061.jpg', 'n344062.jpg', 'n44001.jpg', 'n738012.jpg', 'n371077.jpg', 'n510071.jpg', 'n213052.jpg', 'n199075.jpg', 'n392087.jpg', 'n213066.jpg', 'n344053.jpg', 'n736011.jpg', 'n405000.jpg', 'n251048.jpg', 'n213041.jpg', 'n199074.jpg', 'n603007.jpg', 'n603040.jpg', 'n295082.jpg']\n",
            "The number of image file in /root/.keras/datasets/data/validation/mountain is 122\n",
            "Image dimension =(256, 256, 3)\n"
          ],
          "name": "stdout"
        },
        {
          "output_type": "display_data",
          "data": {
            "image/png": "[encoded data removed]",
            "text/plain": [
              "<Figure size 432x288 with 1 Axes>"
            ]
          },
          "metadata": {
            "tags": [],
            "needs_background": "light"
          }
        }
      ]
    },
    {
      "cell_type": "code",
      "metadata": {
        "id": "ImyBn3tXA3h1",
        "colab_type": "code",
        "colab": {}
      },
      "source": [
        "# this cell overestimated the number of images in each folder by 2 (2 hidden files)\n",
        "\n",
        "num_mountain_tr = len(os.listdir(train_mountain_dir))\n",
        "num_forest_tr = len(os.listdir(train_forest_dir))\n",
        "\n",
        "num_mountain_val = len(os.listdir(validation_mountain_dir))\n",
        "num_forest_val = len(os.listdir(validation_forest_dir))\n",
        "\n",
        "total_train = num_mountain_tr + num_forest_tr\n",
        "total_val = num_mountain_val + num_forest_val\n",
        "\n",
        "print('total training mountain images:', num_mountain_tr)\n",
        "print('total training forest images:', num_forest_tr)\n",
        "print('total validation mountain images:', num_mountain_val)\n",
        "print('total validation forest images:', num_forest_val)\n",
        "print(\"--------\"*3)\n",
        "print(\"Total training images:\", total_train)\n",
        "print(\"Total validation images:\", total_val)"
      ],
      "execution_count": 0,
      "outputs": []
    },
    {
      "cell_type": "code",
      "metadata": {
        "id": "fvax3rfFiwQv",
        "colab_type": "code",
        "colab": {
          "base_uri": "https://localhost:8080/",
          "height": 86
        },
        "outputId": "10284530-0a49-4c0a-84c4-fd96210ce2af"
      },
      "source": [
        "# We can also use glob to find the right number of image files in those folder\n",
        "from glob import glob\n",
        "\n",
        "folders = [train_mountain_dir, train_forest_dir, validation_mountain_dir, validation_forest_dir]\n",
        "for folder in folders:\n",
        "  img_files = folder+'/*.jpg'\n",
        "  num_img =  len(glob(img_files))\n",
        "  print('Number of JPG files in', folder, ': ',num_img)"
      ],
      "execution_count": 9,
      "outputs": [
        {
          "output_type": "stream",
          "text": [
            "Number of JPG files in /root/.keras/datasets/data/train/mountain :  252\n",
            "Number of JPG files in /root/.keras/datasets/data/train/forest :  268\n",
            "Number of JPG files in /root/.keras/datasets/data/validation/mountain :  122\n",
            "Number of JPG files in /root/.keras/datasets/data/validation/forest :  60\n"
          ],
          "name": "stdout"
        }
      ]
    },
    {
      "cell_type": "markdown",
      "metadata": {
        "id": "rHXVTXs9A3h7",
        "colab_type": "text"
      },
      "source": [
        "### Keras `ImageGenerator` to Process the Data\n",
        "\n",
        "This step is completed for you, but please review the code. The `ImageGenerator` class reads in batches of data from a directory and pass them to the model one batch at a time. Just like large text files, this method is advantageous, because it stifles the need to load a bunch of images into memory. \n",
        "\n",
        "Check out the documentation for this class method: [Keras `ImageGenerator` Class](https://keras.io/preprocessing/image/#imagedatagenerator-class). You'll expand it's use in the third assignment objective."
      ]
    },
    {
      "cell_type": "code",
      "metadata": {
        "id": "VY18Lxh4A3h8",
        "colab_type": "code",
        "colab": {}
      },
      "source": [
        "batch_size = 16\n",
        "epochs = 50\n",
        "IMG_HEIGHT = 256 #224\n",
        "IMG_WIDTH = 256 #224\n",
        "CHNLS = 3 # this refers to the R, G, B channels"
      ],
      "execution_count": 0,
      "outputs": []
    },
    {
      "cell_type": "code",
      "metadata": {
        "id": "E7bglKZ9A3h_",
        "colab_type": "code",
        "colab": {}
      },
      "source": [
        "from tensorflow.keras.preprocessing.image import ImageDataGenerator\n",
        "# Generate batches of tensor image data with real-time data augmentation. \n",
        "# The data will be looped over (in batches).\n",
        "train_image_generator = ImageDataGenerator(rescale=1/256) # Generator for our training data\n",
        "validation_image_generator = ImageDataGenerator(rescale=1/256) # Generator for our validation data\n"
      ],
      "execution_count": 0,
      "outputs": []
    },
    {
      "cell_type": "code",
      "metadata": {
        "id": "H8o7rGa9A3iF",
        "colab_type": "code",
        "colab": {}
      },
      "source": [
        "train_data_gen = train_image_generator.flow_from_directory(batch_size=batch_size,\n",
        "                                                           directory=train_dir,\n",
        "                                                           shuffle=True,\n",
        "                                                           target_size=(IMG_HEIGHT, IMG_WIDTH),# reshape image\n",
        "                                                           class_mode='binary'#return label array as 1D binary labels                                                           ) \n",
        ")\n",
        "# Takes the path to a directory & generates batches of augmented data"
      ],
      "execution_count": 0,
      "outputs": []
    },
    {
      "cell_type": "code",
      "metadata": {
        "id": "ddPjhYJGA3iK",
        "colab_type": "code",
        "colab": {}
      },
      "source": [
        "val_data_gen = validation_image_generator.flow_from_directory(batch_size=batch_size,\n",
        "                                                              directory=validation_dir,\n",
        "                                                              target_size=(IMG_HEIGHT, IMG_WIDTH),\n",
        "                                                              class_mode='binary')"
      ],
      "execution_count": 0,
      "outputs": []
    },
    {
      "cell_type": "markdown",
      "metadata": {
        "id": "veMh2VrSA3iO",
        "colab_type": "text"
      },
      "source": [
        "## Instatiate Model"
      ]
    },
    {
      "cell_type": "code",
      "metadata": {
        "id": "JGZxfgEdA3iP",
        "colab_type": "code",
        "colab": {}
      },
      "source": [
        "import numpy as np\n",
        "\n",
        "from tensorflow.keras.preprocessing import image\n",
        "from tensorflow.keras.applications.resnet50 import ResNet50, preprocess_input, decode_predictions\n",
        "# Keras Applications are deep learning models that are made available alongside pre-trained weights.\n",
        "\n",
        "from tensorflow.keras.layers import Dense, GlobalAveragePooling2D\n",
        "from tensorflow.keras.models import Model\n",
        "\n",
        "resnet = ResNet50(weights='imagenet', include_top=False)\n",
        "#include_top: whether to include the fully-connected layer at the top of the network.\n",
        "\n",
        "# first: train only the top layers (which were randomly initialized)\n",
        "# i.e. freeze all convolutional layers\n",
        "for layer in resnet.layers:\n",
        "  layer.trainable = False\n",
        "\n",
        "x = resnet.output\n",
        "# add a global spatial average pooling layer\n",
        "x = GlobalAveragePooling2D()(x) \n",
        "# let's add a fully-connected layer\n",
        "x = Dense(1024, activation='relu')(x)\n",
        "# and a logistic layer -- let's say we have 1 class\n",
        "predictions = Dense(1, activation='sigmoid')(x)\n",
        "\n",
        "# this is the model we will train\n",
        "model = Model(resnet.input, predictions)  "
      ],
      "execution_count": 0,
      "outputs": []
    },
    {
      "cell_type": "code",
      "metadata": {
        "id": "F3elo6Ovraji",
        "colab_type": "code",
        "colab": {}
      },
      "source": [
        "resnet.summary()"
      ],
      "execution_count": 0,
      "outputs": []
    },
    {
      "cell_type": "code",
      "metadata": {
        "id": "d7TnN-ZyrXBL",
        "colab_type": "code",
        "colab": {}
      },
      "source": [
        "model.summary()\n",
        "# by comparision, model has two 1 pooling layer and 2 dense layer appended on resnet model"
      ],
      "execution_count": 0,
      "outputs": []
    },
    {
      "cell_type": "code",
      "metadata": {
        "id": "qSOgicIjrMKF",
        "colab_type": "code",
        "colab": {}
      },
      "source": [
        "model.compile(optimizer='nadam', loss='binary_crossentropy', metrics =['accuracy'])"
      ],
      "execution_count": 0,
      "outputs": []
    },
    {
      "cell_type": "markdown",
      "metadata": {
        "id": "HHhKZNnhA3iT",
        "colab_type": "text"
      },
      "source": [
        "## Fit Model"
      ]
    },
    {
      "cell_type": "code",
      "metadata": {
        "id": "0dXAc0ppA3iU",
        "colab_type": "code",
        "colab": {}
      },
      "source": [
        "history = model.fit(\n",
        "    train_data_gen,\n",
        "    steps_per_epoch=total_train // batch_size, #Total number of steps (batches of samples) for one epoch \n",
        "    epochs=epochs,\n",
        "    validation_data=val_data_gen,\n",
        "    validation_steps=total_val // batch_size\n",
        ")"
      ],
      "execution_count": 0,
      "outputs": []
    },
    {
      "cell_type": "markdown",
      "metadata": {
        "id": "DbXkGVpHA3iW",
        "colab_type": "text"
      },
      "source": [
        "# Custom CNN Model\n",
        "\n",
        "In this step, write and train your own convolutional neural network using Keras. You can use any architecture that suits you as long as it has at least one convolutional and one pooling layer at the beginning of the network - you can add more if you want. "
      ]
    },
    {
      "cell_type": "code",
      "metadata": {
        "id": "NeWK7H2SA3iX",
        "colab_type": "code",
        "colab": {}
      },
      "source": [
        "# Define the Model\n",
        "from tensorflow.keras.models import Sequential\n",
        "from tensorflow.keras.layers import Conv2D, MaxPooling2D, Dense, Flatten\n",
        "from tensorflow.keras.callbacks import EarlyStopping\n",
        "\n",
        "custom_cnn = Sequential([Conv2D(64, (3,3), input_shape=(256, 256, 3), padding='same', activation='relu'),\n",
        "                         # conv2D(output depth, kernel size, \n",
        "                         #padding='same' means the output will the same length as the original input.)\n",
        "                         \n",
        "                         MaxPooling2D(pool_size=(2,2), padding='same'), \n",
        "                         #pool_size: factors by which to downscale (vertical, horizontal).\n",
        "                         #(2, 2) will halve the input in both spatial dimension. \n",
        "                         \n",
        "                         Conv2D(32, (3,3), activation='relu'),\n",
        "                         MaxPooling2D((2,2)),\n",
        "                         \n",
        "                         Conv2D(16, (3,3), activation='relu'),\n",
        "                         MaxPooling2D((2,2)),\n",
        "                         \n",
        "                         Conv2D(8, (2,2),activation='relu'),\n",
        "                         MaxPooling2D((2,2)),\n",
        "                         \n",
        "                         Conv2D(8, (2,2), padding='same', activation='relu'),\n",
        "                         Flatten(),\n",
        "                         Dense(64, activation='relu'),                         \n",
        "                         Dense(1, activation='sigmoid')\n",
        "                        ])"
      ],
      "execution_count": 0,
      "outputs": []
    },
    {
      "cell_type": "code",
      "metadata": {
        "id": "Xl508AAVA3ia",
        "colab_type": "code",
        "colab": {}
      },
      "source": [
        "# Compile Model\n",
        "custom_cnn.compile(optimizer ='nadam', loss='binary_crossentropy', metrics=['accuracy'] )"
      ],
      "execution_count": 0,
      "outputs": []
    },
    {
      "cell_type": "code",
      "metadata": {
        "id": "h38_d-8eA3ic",
        "colab_type": "code",
        "colab": {}
      },
      "source": [
        "# Fit Model\n",
        "history = custom_cnn.fit(\n",
        "    train_data_gen,\n",
        "    steps_per_epoch=total_train // batch_size,\n",
        "    epochs=epochs,\n",
        "    validation_data=val_data_gen,\n",
        "    validation_steps=total_val // batch_size\n",
        ")"
      ],
      "execution_count": 0,
      "outputs": []
    },
    {
      "cell_type": "markdown",
      "metadata": {
        "id": "T5KfzdY0A3if",
        "colab_type": "text"
      },
      "source": [
        "# Custom CNN Model with Image Manipulations\n",
        "\n",
        "To simulate an increase in a sample of image, you can apply image manipulation techniques: cropping, rotation, stretching, etc. Luckily Keras has some handy functions for us to apply these techniques to our mountain and forest example. Simply, you should be able to modify our image generator for the problem. Check out these resources to help you get started: \n",
        "\n",
        "1. [Keras `ImageGenerator` Class](https://keras.io/preprocessing/image/#imagedatagenerator-class)\n",
        "2. [Building a powerful image classifier with very little data](https://blog.keras.io/building-powerful-image-classification-models-using-very-little-data.html)\n",
        "\n",
        "Jing: note that this is one of the following __regularization technique__ for CNN\n",
        "* Add Dropout \n",
        "* Batch Normalization\n",
        "* Data augamentation (add images by doing this to original images: flip, rotate, random crop, scale, color jitter, contrast, brightness...)\n",
        "* Drop connect\n",
        "* Fractional max pooling\n",
        "* stochastic depth (randomly drop layers)\n",
        " "
      ]
    },
    {
      "cell_type": "code",
      "metadata": {
        "id": "reuxpesmA3if",
        "colab_type": "code",
        "colab": {}
      },
      "source": [
        "# generator for our training data\n",
        "train_image_generator = ImageDataGenerator(rescale=1/255,\n",
        "                                           featurewise_center=True,\n",
        "                                           featurewise_std_normalization=True,\n",
        "                                           rotation_range =20,\n",
        "                                           width_shift_range=0.2,\n",
        "                                           height_shift_range=0.2,\n",
        "                                           horizontal_flip=True\n",
        "                                           )\n",
        "\n",
        "# generator for our validation data\n",
        "validation_image_generator = ImageDataGenerator(rescale=1./255,\n",
        "                                           featurewise_center=True,\n",
        "                                           featurewise_std_normalization=True,\n",
        "                                           rotation_range =20,\n",
        "                                           width_shift_range=0.2,\n",
        "                                           height_shift_range=0.2,\n",
        "                                           horizontal_flip=True\n",
        "                                           )"
      ],
      "execution_count": 0,
      "outputs": []
    },
    {
      "cell_type": "code",
      "metadata": {
        "id": "dzygFbASx3lN",
        "colab_type": "code",
        "colab": {
          "base_uri": "https://localhost:8080/",
          "height": 52
        },
        "outputId": "e28dd17e-3c36-4b2a-c00d-61e471312cd0"
      },
      "source": [
        "train_data_gen = train_image_generator.flow_from_directory(batch_size=batch_size,\n",
        "                                                           directory=train_dir,\n",
        "                                                           shuffle = True,\n",
        "                                                           target_size=(IMG_HEIGHT, IMG_WIDTH),\n",
        "                                                           class_mode='binary')\n",
        "val_data_gen = validation_image_generator.flow_from_directory(batch_size=batch_size,\n",
        "                                                           directory=validation_dir,\n",
        "                                                           shuffle = True,\n",
        "                                                           target_size=(IMG_HEIGHT, IMG_WIDTH),\n",
        "                                                           class_mode='binary')"
      ],
      "execution_count": 33,
      "outputs": [
        {
          "output_type": "stream",
          "text": [
            "Found 533 images belonging to 2 classes.\n",
            "Found 195 images belonging to 2 classes.\n"
          ],
          "name": "stdout"
        }
      ]
    },
    {
      "cell_type": "code",
      "metadata": {
        "id": "bZ14qtHKvQuH",
        "colab_type": "code",
        "colab": {}
      },
      "source": [
        "custom_cnn = Sequential([\n",
        "                         Conv2D(64, (3,3), input_shape=(256, 256, 3), padding='same', activation='relu'),\n",
        "                         MaxPooling2D((2,2), padding='same'),  \n",
        "                         Conv2D(32, (3,3), activation='relu'),\n",
        "                         MaxPooling2D((2,2)),\n",
        "                         Conv2D(8, (3,3), activation='relu'),\n",
        "                         MaxPooling2D((2,2)),\n",
        "                         Conv2D(8, (2,2),activation='relu'),\n",
        "                         MaxPooling2D((2,2)),\n",
        "                         Conv2D(8, (2,2), padding='same', activation='relu'),\n",
        "                         Flatten(),\n",
        "                         Dense(64, activation='relu'),\n",
        "                         Dense(1, activation='sigmoid')\n",
        "                        ])\n"
      ],
      "execution_count": 0,
      "outputs": []
    },
    {
      "cell_type": "code",
      "metadata": {
        "id": "Xfyc2rfau7WO",
        "colab_type": "code",
        "colab": {}
      },
      "source": [
        "custom_cnn.compile(optimizer='nadam', loss='binary_crossentropy', metrics=['accuracy'])"
      ],
      "execution_count": 0,
      "outputs": []
    },
    {
      "cell_type": "code",
      "metadata": {
        "id": "dGYoZwzXu7Mu",
        "colab_type": "code",
        "colab": {
          "base_uri": "https://localhost:8080/",
          "height": 1000
        },
        "outputId": "4c1b8064-c78a-4fd3-f018-77001d2c717c"
      },
      "source": [
        "# Fit Model\n",
        "history = custom_cnn.fit(\n",
        "    train_data_gen,\n",
        "    steps_per_epoch=total_train // batch_size,\n",
        "    epochs=epochs,\n",
        "    validation_data=val_data_gen,\n",
        "    validation_steps=total_val // batch_size\n",
        ")"
      ],
      "execution_count": 42,
      "outputs": [
        {
          "output_type": "stream",
          "text": [
            "/usr/local/lib/python3.6/dist-packages/keras_preprocessing/image/image_data_generator.py:716: UserWarning: This ImageDataGenerator specifies `featurewise_center`, but it hasn't been fit on any training data. Fit it first by calling `.fit(numpy_data)`.\n",
            "  warnings.warn('This ImageDataGenerator specifies '\n",
            "/usr/local/lib/python3.6/dist-packages/keras_preprocessing/image/image_data_generator.py:724: UserWarning: This ImageDataGenerator specifies `featurewise_std_normalization`, but it hasn't been fit on any training data. Fit it first by calling `.fit(numpy_data)`.\n",
            "  warnings.warn('This ImageDataGenerator specifies '\n"
          ],
          "name": "stderr"
        },
        {
          "output_type": "stream",
          "text": [
            "Epoch 1/50\n",
            "32/32 [==============================] - 11s 338ms/step - loss: 0.5482 - accuracy: 0.7090 - val_loss: 0.4197 - val_accuracy: 0.8466\n",
            "Epoch 2/50\n",
            "32/32 [==============================] - 10s 325ms/step - loss: 0.3331 - accuracy: 0.8743 - val_loss: 0.3173 - val_accuracy: 0.8221\n",
            "Epoch 3/50\n",
            "32/32 [==============================] - 10s 324ms/step - loss: 0.3268 - accuracy: 0.8743 - val_loss: 0.3404 - val_accuracy: 0.8466\n",
            "Epoch 4/50\n",
            "32/32 [==============================] - 10s 325ms/step - loss: 0.2710 - accuracy: 0.9002 - val_loss: 0.3756 - val_accuracy: 0.8466\n",
            "Epoch 5/50\n",
            "32/32 [==============================] - 10s 328ms/step - loss: 0.2815 - accuracy: 0.8723 - val_loss: 0.2602 - val_accuracy: 0.8712\n",
            "Epoch 6/50\n",
            "32/32 [==============================] - 10s 322ms/step - loss: 0.2124 - accuracy: 0.9142 - val_loss: 0.2584 - val_accuracy: 0.9141\n",
            "Epoch 7/50\n",
            "32/32 [==============================] - 10s 326ms/step - loss: 0.2631 - accuracy: 0.8902 - val_loss: 0.2813 - val_accuracy: 0.8773\n",
            "Epoch 8/50\n",
            "32/32 [==============================] - 10s 321ms/step - loss: 0.2086 - accuracy: 0.9122 - val_loss: 0.3434 - val_accuracy: 0.8712\n",
            "Epoch 9/50\n",
            "32/32 [==============================] - 10s 325ms/step - loss: 0.1887 - accuracy: 0.9361 - val_loss: 0.2152 - val_accuracy: 0.9264\n",
            "Epoch 10/50\n",
            "32/32 [==============================] - 10s 319ms/step - loss: 0.2111 - accuracy: 0.9162 - val_loss: 0.2271 - val_accuracy: 0.9141\n",
            "Epoch 11/50\n",
            "32/32 [==============================] - 10s 318ms/step - loss: 0.2310 - accuracy: 0.9062 - val_loss: 0.1681 - val_accuracy: 0.9141\n",
            "Epoch 12/50\n",
            "32/32 [==============================] - 10s 318ms/step - loss: 0.2068 - accuracy: 0.9281 - val_loss: 0.1712 - val_accuracy: 0.9141\n",
            "Epoch 13/50\n",
            "32/32 [==============================] - 10s 317ms/step - loss: 0.2167 - accuracy: 0.9202 - val_loss: 0.1603 - val_accuracy: 0.9375\n",
            "Epoch 14/50\n",
            "32/32 [==============================] - 10s 323ms/step - loss: 0.1914 - accuracy: 0.9301 - val_loss: 0.1752 - val_accuracy: 0.9375\n",
            "Epoch 15/50\n",
            "32/32 [==============================] - 10s 317ms/step - loss: 0.2373 - accuracy: 0.9142 - val_loss: 0.2054 - val_accuracy: 0.8957\n",
            "Epoch 16/50\n",
            "32/32 [==============================] - 10s 318ms/step - loss: 0.1953 - accuracy: 0.9281 - val_loss: 0.1943 - val_accuracy: 0.9141\n",
            "Epoch 17/50\n",
            "32/32 [==============================] - 10s 324ms/step - loss: 0.1782 - accuracy: 0.9242 - val_loss: 0.1845 - val_accuracy: 0.9264\n",
            "Epoch 18/50\n",
            "32/32 [==============================] - 10s 325ms/step - loss: 0.1908 - accuracy: 0.9258 - val_loss: 0.1969 - val_accuracy: 0.9387\n",
            "Epoch 19/50\n",
            "32/32 [==============================] - 10s 318ms/step - loss: 0.1764 - accuracy: 0.9242 - val_loss: 0.1955 - val_accuracy: 0.9141\n",
            "Epoch 20/50\n",
            "32/32 [==============================] - 10s 317ms/step - loss: 0.2708 - accuracy: 0.8902 - val_loss: 0.1565 - val_accuracy: 0.9264\n",
            "Epoch 21/50\n",
            "32/32 [==============================] - 10s 315ms/step - loss: 0.1817 - accuracy: 0.9321 - val_loss: 0.1667 - val_accuracy: 0.9202\n",
            "Epoch 22/50\n",
            "32/32 [==============================] - 10s 316ms/step - loss: 0.1383 - accuracy: 0.9361 - val_loss: 0.2141 - val_accuracy: 0.8957\n",
            "Epoch 23/50\n",
            "32/32 [==============================] - 10s 318ms/step - loss: 0.1777 - accuracy: 0.9301 - val_loss: 0.2445 - val_accuracy: 0.9018\n",
            "Epoch 24/50\n",
            "32/32 [==============================] - 10s 319ms/step - loss: 0.1470 - accuracy: 0.9321 - val_loss: 0.1848 - val_accuracy: 0.9141\n",
            "Epoch 25/50\n",
            "32/32 [==============================] - 10s 321ms/step - loss: 0.1522 - accuracy: 0.9381 - val_loss: 0.2151 - val_accuracy: 0.9264\n",
            "Epoch 26/50\n",
            "32/32 [==============================] - 10s 318ms/step - loss: 0.1816 - accuracy: 0.9242 - val_loss: 0.3989 - val_accuracy: 0.8295\n",
            "Epoch 27/50\n",
            "32/32 [==============================] - 10s 320ms/step - loss: 0.1482 - accuracy: 0.9321 - val_loss: 0.1915 - val_accuracy: 0.9148\n",
            "Epoch 28/50\n",
            "32/32 [==============================] - 10s 315ms/step - loss: 0.2192 - accuracy: 0.9042 - val_loss: 0.1625 - val_accuracy: 0.9325\n",
            "Epoch 29/50\n",
            "32/32 [==============================] - 10s 319ms/step - loss: 0.1504 - accuracy: 0.9381 - val_loss: 0.1446 - val_accuracy: 0.9325\n",
            "Epoch 30/50\n",
            "32/32 [==============================] - 10s 317ms/step - loss: 0.1317 - accuracy: 0.9461 - val_loss: 0.1949 - val_accuracy: 0.8957\n",
            "Epoch 31/50\n",
            "32/32 [==============================] - 10s 315ms/step - loss: 0.1845 - accuracy: 0.9361 - val_loss: 0.1362 - val_accuracy: 0.9325\n",
            "Epoch 32/50\n",
            "32/32 [==============================] - 10s 320ms/step - loss: 0.1468 - accuracy: 0.9401 - val_loss: 0.2083 - val_accuracy: 0.8957\n",
            "Epoch 33/50\n",
            "32/32 [==============================] - 10s 322ms/step - loss: 0.1201 - accuracy: 0.9601 - val_loss: 0.1258 - val_accuracy: 0.9509\n",
            "Epoch 34/50\n",
            "32/32 [==============================] - 10s 319ms/step - loss: 0.1450 - accuracy: 0.9381 - val_loss: 0.2115 - val_accuracy: 0.9018\n",
            "Epoch 35/50\n",
            "32/32 [==============================] - 11s 331ms/step - loss: 0.1424 - accuracy: 0.9492 - val_loss: 0.1453 - val_accuracy: 0.9448\n",
            "Epoch 36/50\n",
            "32/32 [==============================] - 10s 316ms/step - loss: 0.1416 - accuracy: 0.9561 - val_loss: 0.4034 - val_accuracy: 0.7853\n",
            "Epoch 37/50\n",
            "32/32 [==============================] - 10s 315ms/step - loss: 0.1642 - accuracy: 0.9261 - val_loss: 0.1348 - val_accuracy: 0.9571\n",
            "Epoch 38/50\n",
            "32/32 [==============================] - 10s 314ms/step - loss: 0.1297 - accuracy: 0.9501 - val_loss: 0.1713 - val_accuracy: 0.9202\n",
            "Epoch 39/50\n",
            "32/32 [==============================] - 10s 317ms/step - loss: 0.1219 - accuracy: 0.9481 - val_loss: 0.3758 - val_accuracy: 0.8580\n",
            "Epoch 40/50\n",
            "32/32 [==============================] - 11s 329ms/step - loss: 0.1365 - accuracy: 0.9541 - val_loss: 0.1742 - val_accuracy: 0.9318\n",
            "Epoch 41/50\n",
            "32/32 [==============================] - 10s 319ms/step - loss: 0.1137 - accuracy: 0.9521 - val_loss: 0.1715 - val_accuracy: 0.9202\n",
            "Epoch 42/50\n",
            "32/32 [==============================] - 10s 320ms/step - loss: 0.1570 - accuracy: 0.9321 - val_loss: 0.1913 - val_accuracy: 0.9202\n",
            "Epoch 43/50\n",
            "32/32 [==============================] - 10s 323ms/step - loss: 0.1048 - accuracy: 0.9561 - val_loss: 0.1702 - val_accuracy: 0.9264\n",
            "Epoch 44/50\n",
            "32/32 [==============================] - 10s 324ms/step - loss: 0.1626 - accuracy: 0.9281 - val_loss: 0.1174 - val_accuracy: 0.9509\n",
            "Epoch 45/50\n",
            "32/32 [==============================] - 10s 327ms/step - loss: 0.1290 - accuracy: 0.9501 - val_loss: 0.1978 - val_accuracy: 0.9387\n",
            "Epoch 46/50\n",
            "32/32 [==============================] - 10s 325ms/step - loss: 0.1234 - accuracy: 0.9461 - val_loss: 0.2753 - val_accuracy: 0.8712\n",
            "Epoch 47/50\n",
            "32/32 [==============================] - 11s 329ms/step - loss: 0.1145 - accuracy: 0.9641 - val_loss: 0.1455 - val_accuracy: 0.9448\n",
            "Epoch 48/50\n",
            "32/32 [==============================] - 11s 330ms/step - loss: 0.1328 - accuracy: 0.9561 - val_loss: 0.3443 - val_accuracy: 0.8589\n",
            "Epoch 49/50\n",
            "32/32 [==============================] - 10s 325ms/step - loss: 0.1256 - accuracy: 0.9541 - val_loss: 0.1715 - val_accuracy: 0.9141\n",
            "Epoch 50/50\n",
            "32/32 [==============================] - 10s 325ms/step - loss: 0.1295 - accuracy: 0.9481 - val_loss: 0.3245 - val_accuracy: 0.8834\n"
          ],
          "name": "stdout"
        }
      ]
    },
    {
      "cell_type": "markdown",
      "metadata": {
        "colab_type": "text",
        "id": "uT3UV3gap9H6"
      },
      "source": [
        "# Resources and Stretch Goals\n",
        "\n",
        "Stretch goals\n",
        "- Enhance your code to use classes/functions and accept terms to search and classes to look for in recognizing the downloaded images (e.g. download images of parties, recognize all that contain balloons)\n",
        "- Check out [other available pretrained networks](https://tfhub.dev), try some and compare\n",
        "- Image recognition/classification is somewhat solved, but *relationships* between entities and describing an image is not - check out some of the extended resources (e.g. [Visual Genome](https://visualgenome.org/)) on the topic\n",
        "- Transfer learning - using images you source yourself, [retrain a classifier](https://www.tensorflow.org/hub/tutorials/image_retraining) with a new category\n",
        "- (Not CNN related) Use [piexif](https://pypi.org/project/piexif/) to check out the metadata of images passed in to your system - see if they're from a national park! (Note - many images lack GPS metadata, so this won't work in most cases, but still cool)\n",
        "\n",
        "Resources\n",
        "- [Deep Residual Learning for Image Recognition](https://arxiv.org/abs/1512.03385) - influential paper (introduced ResNet)\n",
        "- [YOLO: Real-Time Object Detection](https://pjreddie.com/darknet/yolo/) - an influential convolution based object detection system, focused on inference speed (for applications to e.g. self driving vehicles)\n",
        "- [R-CNN, Fast R-CNN, Faster R-CNN, YOLO](https://towardsdatascience.com/r-cnn-fast-r-cnn-faster-r-cnn-yolo-object-detection-algorithms-36d53571365e) - comparison of object detection systems\n",
        "- [Common Objects in Context](http://cocodataset.org/) - a large-scale object detection, segmentation, and captioning dataset\n",
        "- [Visual Genome](https://visualgenome.org/) - a dataset, a knowledge base, an ongoing effort to connect structured image concepts to language"
      ]
    },
    {
      "cell_type": "code",
      "metadata": {
        "id": "FKx7EC6lGn7d",
        "colab_type": "code",
        "colab": {}
      },
      "source": [
        ""
      ],
      "execution_count": 0,
      "outputs": []
    },
    {
      "cell_type": "markdown",
      "metadata": {
        "id": "z8CRFWSyqvKe",
        "colab_type": "text"
      },
      "source": [
        ""
      ]
    }
  ]
}